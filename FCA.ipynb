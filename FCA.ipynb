{
 "cells": [
  {
   "cell_type": "code",
   "execution_count": 3,
   "metadata": {},
   "outputs": [],
   "source": [
    "import os\n",
    "import numpy as np\n",
    "import pandas as pd\n",
    "from factor_analyzer import FactorAnalyzer\n",
    "from factor_analyzer.factor_analyzer import FactorAnalyzer\n",
    "import matplotlib.pyplot as plt"
   ]
  },
  {
   "cell_type": "code",
   "execution_count": 5,
   "metadata": {},
   "outputs": [
    {
     "data": {
      "text/plain": [
       "'C:\\\\Users\\\\91868\\\\Hari krishna\\\\Cluster analysis'"
      ]
     },
     "execution_count": 5,
     "metadata": {},
     "output_type": "execute_result"
    }
   ],
   "source": [
    "os.getcwd()"
   ]
  },
  {
   "cell_type": "code",
   "execution_count": 6,
   "metadata": {},
   "outputs": [],
   "source": [
    "os.chdir('C:\\\\Users\\\\91868\\\\Desktop\\\\Hari Data science\\\\C7-20200526T134159Z-001\\\\C7\\\\Statistics\\\\Topic 19 - Factor Analysis and PCA')"
   ]
  },
  {
   "cell_type": "code",
   "execution_count": 7,
   "metadata": {},
   "outputs": [],
   "source": [
    "data= pd.read_csv(\"bfi_data.csv\")"
   ]
  },
  {
   "cell_type": "code",
   "execution_count": 9,
   "metadata": {},
   "outputs": [
    {
     "data": {
      "text/plain": [
       "(2800, 28)"
      ]
     },
     "execution_count": 9,
     "metadata": {},
     "output_type": "execute_result"
    }
   ],
   "source": [
    "data.shape"
   ]
  },
  {
   "cell_type": "code",
   "execution_count": 8,
   "metadata": {},
   "outputs": [
    {
     "data": {
      "text/html": [
       "<div>\n",
       "<style scoped>\n",
       "    .dataframe tbody tr th:only-of-type {\n",
       "        vertical-align: middle;\n",
       "    }\n",
       "\n",
       "    .dataframe tbody tr th {\n",
       "        vertical-align: top;\n",
       "    }\n",
       "\n",
       "    .dataframe thead th {\n",
       "        text-align: right;\n",
       "    }\n",
       "</style>\n",
       "<table border=\"1\" class=\"dataframe\">\n",
       "  <thead>\n",
       "    <tr style=\"text-align: right;\">\n",
       "      <th></th>\n",
       "      <th>A1</th>\n",
       "      <th>A2</th>\n",
       "      <th>A3</th>\n",
       "      <th>A4</th>\n",
       "      <th>A5</th>\n",
       "      <th>C1</th>\n",
       "      <th>C2</th>\n",
       "      <th>C3</th>\n",
       "      <th>C4</th>\n",
       "      <th>C5</th>\n",
       "      <th>...</th>\n",
       "      <th>N4</th>\n",
       "      <th>N5</th>\n",
       "      <th>O1</th>\n",
       "      <th>O2</th>\n",
       "      <th>O3</th>\n",
       "      <th>O4</th>\n",
       "      <th>O5</th>\n",
       "      <th>gender</th>\n",
       "      <th>education</th>\n",
       "      <th>age</th>\n",
       "    </tr>\n",
       "  </thead>\n",
       "  <tbody>\n",
       "    <tr>\n",
       "      <th>0</th>\n",
       "      <td>2.0</td>\n",
       "      <td>4.0</td>\n",
       "      <td>3.0</td>\n",
       "      <td>4.0</td>\n",
       "      <td>4.0</td>\n",
       "      <td>2.0</td>\n",
       "      <td>3.0</td>\n",
       "      <td>3.0</td>\n",
       "      <td>4.0</td>\n",
       "      <td>4.0</td>\n",
       "      <td>...</td>\n",
       "      <td>2.0</td>\n",
       "      <td>3.0</td>\n",
       "      <td>3.0</td>\n",
       "      <td>6</td>\n",
       "      <td>3.0</td>\n",
       "      <td>4.0</td>\n",
       "      <td>3.0</td>\n",
       "      <td>1</td>\n",
       "      <td>NaN</td>\n",
       "      <td>16</td>\n",
       "    </tr>\n",
       "    <tr>\n",
       "      <th>1</th>\n",
       "      <td>2.0</td>\n",
       "      <td>4.0</td>\n",
       "      <td>5.0</td>\n",
       "      <td>2.0</td>\n",
       "      <td>5.0</td>\n",
       "      <td>5.0</td>\n",
       "      <td>4.0</td>\n",
       "      <td>4.0</td>\n",
       "      <td>3.0</td>\n",
       "      <td>4.0</td>\n",
       "      <td>...</td>\n",
       "      <td>5.0</td>\n",
       "      <td>5.0</td>\n",
       "      <td>4.0</td>\n",
       "      <td>2</td>\n",
       "      <td>4.0</td>\n",
       "      <td>3.0</td>\n",
       "      <td>3.0</td>\n",
       "      <td>2</td>\n",
       "      <td>NaN</td>\n",
       "      <td>18</td>\n",
       "    </tr>\n",
       "    <tr>\n",
       "      <th>2</th>\n",
       "      <td>5.0</td>\n",
       "      <td>4.0</td>\n",
       "      <td>5.0</td>\n",
       "      <td>4.0</td>\n",
       "      <td>4.0</td>\n",
       "      <td>4.0</td>\n",
       "      <td>5.0</td>\n",
       "      <td>4.0</td>\n",
       "      <td>2.0</td>\n",
       "      <td>5.0</td>\n",
       "      <td>...</td>\n",
       "      <td>2.0</td>\n",
       "      <td>3.0</td>\n",
       "      <td>4.0</td>\n",
       "      <td>2</td>\n",
       "      <td>5.0</td>\n",
       "      <td>5.0</td>\n",
       "      <td>2.0</td>\n",
       "      <td>2</td>\n",
       "      <td>NaN</td>\n",
       "      <td>17</td>\n",
       "    </tr>\n",
       "    <tr>\n",
       "      <th>3</th>\n",
       "      <td>4.0</td>\n",
       "      <td>4.0</td>\n",
       "      <td>6.0</td>\n",
       "      <td>5.0</td>\n",
       "      <td>5.0</td>\n",
       "      <td>4.0</td>\n",
       "      <td>4.0</td>\n",
       "      <td>3.0</td>\n",
       "      <td>5.0</td>\n",
       "      <td>5.0</td>\n",
       "      <td>...</td>\n",
       "      <td>4.0</td>\n",
       "      <td>1.0</td>\n",
       "      <td>3.0</td>\n",
       "      <td>3</td>\n",
       "      <td>4.0</td>\n",
       "      <td>3.0</td>\n",
       "      <td>5.0</td>\n",
       "      <td>2</td>\n",
       "      <td>NaN</td>\n",
       "      <td>17</td>\n",
       "    </tr>\n",
       "    <tr>\n",
       "      <th>4</th>\n",
       "      <td>2.0</td>\n",
       "      <td>3.0</td>\n",
       "      <td>3.0</td>\n",
       "      <td>4.0</td>\n",
       "      <td>5.0</td>\n",
       "      <td>4.0</td>\n",
       "      <td>4.0</td>\n",
       "      <td>5.0</td>\n",
       "      <td>3.0</td>\n",
       "      <td>2.0</td>\n",
       "      <td>...</td>\n",
       "      <td>4.0</td>\n",
       "      <td>3.0</td>\n",
       "      <td>3.0</td>\n",
       "      <td>3</td>\n",
       "      <td>4.0</td>\n",
       "      <td>3.0</td>\n",
       "      <td>3.0</td>\n",
       "      <td>1</td>\n",
       "      <td>NaN</td>\n",
       "      <td>17</td>\n",
       "    </tr>\n",
       "  </tbody>\n",
       "</table>\n",
       "<p>5 rows × 28 columns</p>\n",
       "</div>"
      ],
      "text/plain": [
       "    A1   A2   A3   A4   A5   C1   C2   C3   C4   C5  ...   N4   N5   O1  O2  \\\n",
       "0  2.0  4.0  3.0  4.0  4.0  2.0  3.0  3.0  4.0  4.0  ...  2.0  3.0  3.0   6   \n",
       "1  2.0  4.0  5.0  2.0  5.0  5.0  4.0  4.0  3.0  4.0  ...  5.0  5.0  4.0   2   \n",
       "2  5.0  4.0  5.0  4.0  4.0  4.0  5.0  4.0  2.0  5.0  ...  2.0  3.0  4.0   2   \n",
       "3  4.0  4.0  6.0  5.0  5.0  4.0  4.0  3.0  5.0  5.0  ...  4.0  1.0  3.0   3   \n",
       "4  2.0  3.0  3.0  4.0  5.0  4.0  4.0  5.0  3.0  2.0  ...  4.0  3.0  3.0   3   \n",
       "\n",
       "    O3   O4   O5  gender  education  age  \n",
       "0  3.0  4.0  3.0       1        NaN   16  \n",
       "1  4.0  3.0  3.0       2        NaN   18  \n",
       "2  5.0  5.0  2.0       2        NaN   17  \n",
       "3  4.0  3.0  5.0       2        NaN   17  \n",
       "4  4.0  3.0  3.0       1        NaN   17  \n",
       "\n",
       "[5 rows x 28 columns]"
      ]
     },
     "execution_count": 8,
     "metadata": {},
     "output_type": "execute_result"
    }
   ],
   "source": [
    "data.head()"
   ]
  },
  {
   "cell_type": "code",
   "execution_count": 10,
   "metadata": {},
   "outputs": [
    {
     "name": "stdout",
     "output_type": "stream",
     "text": [
      "<class 'pandas.core.frame.DataFrame'>\n",
      "RangeIndex: 2800 entries, 0 to 2799\n",
      "Data columns (total 28 columns):\n",
      "A1           2784 non-null float64\n",
      "A2           2773 non-null float64\n",
      "A3           2774 non-null float64\n",
      "A4           2781 non-null float64\n",
      "A5           2784 non-null float64\n",
      "C1           2779 non-null float64\n",
      "C2           2776 non-null float64\n",
      "C3           2780 non-null float64\n",
      "C4           2774 non-null float64\n",
      "C5           2784 non-null float64\n",
      "E1           2777 non-null float64\n",
      "E2           2784 non-null float64\n",
      "E3           2775 non-null float64\n",
      "E4           2791 non-null float64\n",
      "E5           2779 non-null float64\n",
      "N1           2778 non-null float64\n",
      "N2           2779 non-null float64\n",
      "N3           2789 non-null float64\n",
      "N4           2764 non-null float64\n",
      "N5           2771 non-null float64\n",
      "O1           2778 non-null float64\n",
      "O2           2800 non-null int64\n",
      "O3           2772 non-null float64\n",
      "O4           2786 non-null float64\n",
      "O5           2780 non-null float64\n",
      "gender       2800 non-null int64\n",
      "education    2577 non-null float64\n",
      "age          2800 non-null int64\n",
      "dtypes: float64(25), int64(3)\n",
      "memory usage: 612.6 KB\n"
     ]
    }
   ],
   "source": [
    "data.info()"
   ]
  },
  {
   "cell_type": "code",
   "execution_count": 13,
   "metadata": {},
   "outputs": [],
   "source": [
    "data.drop(['education'],axis=1,inplace=True)"
   ]
  },
  {
   "cell_type": "code",
   "execution_count": 14,
   "metadata": {},
   "outputs": [],
   "source": [
    "data.dropna(inplace=True)"
   ]
  },
  {
   "cell_type": "code",
   "execution_count": 66,
   "metadata": {},
   "outputs": [],
   "source": [
    "cols = data.columns"
   ]
  },
  {
   "cell_type": "code",
   "execution_count": 71,
   "metadata": {},
   "outputs": [
    {
     "data": {
      "text/plain": [
       "(18837.7052560431, 0.0)"
      ]
     },
     "execution_count": 71,
     "metadata": {},
     "output_type": "execute_result"
    }
   ],
   "source": [
    "## It checks whether or not the observed variables intercorrelate at all using observed correlation against identity matrix. \n",
    "\n",
    "from factor_analyzer.factor_analyzer import calculate_bartlett_sphericity\n",
    "chi_square_value,p_value=calculate_bartlett_sphericity(data)\n",
    "chi_square_value, p_value"
   ]
  },
  {
   "cell_type": "code",
   "execution_count": 19,
   "metadata": {},
   "outputs": [],
   "source": [
    "from factor_analyzer.factor_analyzer import calculate_kmo\n",
    "kmo_all,kmo_model=calculate_kmo(data)"
   ]
  },
  {
   "cell_type": "code",
   "execution_count": 20,
   "metadata": {},
   "outputs": [
    {
     "data": {
      "text/plain": [
       "array([0.76701429, 0.84623134, 0.87043978, 0.86742059, 0.89790228,\n",
       "       0.83853053, 0.79029767, 0.85316778, 0.83047923, 0.86397885,\n",
       "       0.84158226, 0.88075767, 0.89441255, 0.870642  , 0.89196514,\n",
       "       0.77421647, 0.77968541, 0.86082136, 0.87668629, 0.84783521,\n",
       "       0.85740794, 0.77305764, 0.84480025, 0.77178465, 0.76654684,\n",
       "       0.70615524, 0.669618  ])"
      ]
     },
     "execution_count": 20,
     "metadata": {},
     "output_type": "execute_result"
    }
   ],
   "source": [
    "kmo_all"
   ]
  },
  {
   "cell_type": "code",
   "execution_count": 21,
   "metadata": {},
   "outputs": [
    {
     "data": {
      "text/plain": [
       "0.8432658664109065"
      ]
     },
     "execution_count": 21,
     "metadata": {},
     "output_type": "execute_result"
    }
   ],
   "source": [
    "kmo_model"
   ]
  },
  {
   "cell_type": "code",
   "execution_count": 23,
   "metadata": {},
   "outputs": [
    {
     "data": {
      "text/plain": [
       "FactorAnalyzer(bounds=(0.005, 1), impute='median', is_corr_matrix=False,\n",
       "               method='minres', n_factors=3, rotation=None, rotation_kwargs={},\n",
       "               use_smc=True)"
      ]
     },
     "execution_count": 23,
     "metadata": {},
     "output_type": "execute_result"
    }
   ],
   "source": [
    "fa = FactorAnalyzer( rotation=None)\n",
    "fa.fit(data)"
   ]
  },
  {
   "cell_type": "code",
   "execution_count": 24,
   "metadata": {},
   "outputs": [],
   "source": [
    "ev, v = fa.get_eigenvalues()"
   ]
  },
  {
   "cell_type": "code",
   "execution_count": 25,
   "metadata": {},
   "outputs": [
    {
     "data": {
      "text/plain": [
       "array([5.17573425, 2.79803508, 2.16440386, 1.91319399, 1.60005591,\n",
       "       1.19103861, 0.99074272, 0.83825172, 0.82066909, 0.75064349,\n",
       "       0.70964401, 0.68002781, 0.6708173 , 0.6515725 , 0.62276835,\n",
       "       0.58930468, 0.55290964, 0.53063096, 0.51327043, 0.493782  ,\n",
       "       0.48000508, 0.43373299, 0.42157802, 0.39852221, 0.38273296,\n",
       "       0.36741185, 0.2585205 ])"
      ]
     },
     "execution_count": 25,
     "metadata": {},
     "output_type": "execute_result"
    }
   ],
   "source": [
    "ev"
   ]
  },
  {
   "cell_type": "code",
   "execution_count": 26,
   "metadata": {},
   "outputs": [
    {
     "data": {
      "text/plain": [
       "array([ 4.55355918e+00,  2.23880254e+00,  1.47836393e+00,  1.13578332e+00,\n",
       "        8.71287294e-01,  4.38160024e-01,  1.99126000e-01,  1.17827540e-01,\n",
       "        8.42102133e-02,  3.99187895e-02, -6.74810216e-04, -1.51650126e-02,\n",
       "       -6.19208723e-02, -7.21947904e-02, -1.04007508e-01, -1.24273517e-01,\n",
       "       -1.37448146e-01, -1.59514691e-01, -1.86061572e-01, -2.03401542e-01,\n",
       "       -2.10241863e-01, -2.29047956e-01, -2.43711353e-01, -2.52062307e-01,\n",
       "       -2.72384537e-01, -2.90656547e-01, -3.23547227e-01])"
      ]
     },
     "execution_count": 26,
     "metadata": {},
     "output_type": "execute_result"
    }
   ],
   "source": [
    "v"
   ]
  },
  {
   "cell_type": "code",
   "execution_count": 34,
   "metadata": {},
   "outputs": [
    {
     "data": {
      "text/plain": [
       "(array([4.55355895, 2.23880212, 1.47836351]),\n",
       " array([0.16865033, 0.0829186 , 0.0547542 ]),\n",
       " array([0.16865033, 0.25156893, 0.30632313]))"
      ]
     },
     "execution_count": 34,
     "metadata": {},
     "output_type": "execute_result"
    }
   ],
   "source": [
    "fa.get_factor_variance()"
   ]
  },
  {
   "cell_type": "code",
   "execution_count": 33,
   "metadata": {},
   "outputs": [
    {
     "data": {
      "image/png": "[encoded data removed]",
      "text/plain": [
       "<Figure size 432x288 with 1 Axes>"
      ]
     },
     "metadata": {
      "needs_background": "light"
     },
     "output_type": "display_data"
    }
   ],
   "source": [
    "plt.scatter(range(1,data.shape[1]+1),ev)\n",
    "plt.plot(range(1,data.shape[1]+1),ev)\n",
    "plt.title('Scree Plot')\n",
    "plt.xlabel('Factors')\n",
    "plt.ylabel('Eigenvalue')\n",
    "plt.grid()\n",
    "plt.show()"
   ]
  },
  {
   "cell_type": "code",
   "execution_count": 41,
   "metadata": {},
   "outputs": [
    {
     "data": {
      "text/plain": [
       "FactorAnalyzer(bounds=(0.005, 1), impute='median', is_corr_matrix=False,\n",
       "               method='minres', n_factors=5, rotation=None, rotation_kwargs={},\n",
       "               use_smc=True)"
      ]
     },
     "execution_count": 41,
     "metadata": {},
     "output_type": "execute_result"
    }
   ],
   "source": [
    "fa = FactorAnalyzer(n_factors=5,rotation=None)\n",
    "fa.fit(data)"
   ]
  },
  {
   "cell_type": "code",
   "execution_count": 42,
   "metadata": {},
   "outputs": [
    {
     "data": {
      "text/plain": [
       "(array([4.63482621, 2.30477234, 1.55716411, 1.27535755, 0.98514603]),\n",
       " array([0.17166023, 0.08536194, 0.05767274, 0.04723546, 0.03648689]),\n",
       " array([0.17166023, 0.25702217, 0.31469491, 0.36193038, 0.39841727]))"
      ]
     },
     "execution_count": 42,
     "metadata": {},
     "output_type": "execute_result"
    }
   ],
   "source": [
    "fa.get_factor_variance()"
   ]
  },
  {
   "cell_type": "code",
   "execution_count": 43,
   "metadata": {},
   "outputs": [
    {
     "data": {
      "text/plain": [
       "array([[-0.23369465, -0.03527139,  0.13967935, -0.0473663 , -0.41307623],\n",
       "       [ 0.47444536,  0.30225854, -0.18616317,  0.14003242,  0.33561904],\n",
       "       [ 0.53307325,  0.30859101, -0.24842792,  0.0889662 ,  0.2549434 ],\n",
       "       [ 0.42212867,  0.12670598, -0.13634479,  0.2595289 ,  0.13445561],\n",
       "       [ 0.58230019,  0.18448744, -0.25555148,  0.01763569,  0.15029193],\n",
       "       [ 0.34471188,  0.12199173,  0.44371801,  0.13148649, -0.03344003],\n",
       "       [ 0.33505814,  0.19075229,  0.45854864,  0.28436783, -0.02162689],\n",
       "       [ 0.32023902,  0.05484082,  0.32906381,  0.32255205, -0.00931121],\n",
       "       [-0.47011151,  0.10594354, -0.43082733, -0.26252673,  0.02478207],\n",
       "       [-0.49371319,  0.14551415, -0.25918166, -0.29866695,  0.13090687],\n",
       "       [-0.4073075 , -0.18447937,  0.25293312,  0.13086269,  0.23141234],\n",
       "       [-0.61688438, -0.04204765,  0.21966157,  0.0960182 ,  0.29990244],\n",
       "       [ 0.52455427,  0.31847633, -0.09416269, -0.22681987, -0.10379323],\n",
       "       [ 0.59643576,  0.17894511, -0.32778837,  0.03260746, -0.2230179 ],\n",
       "       [ 0.51362235,  0.27723476,  0.10603575, -0.0616128 , -0.21922023],\n",
       "       [-0.43726667,  0.62793018,  0.0465214 ,  0.05135784, -0.26175969],\n",
       "       [-0.41986158,  0.6161711 ,  0.09651857,  0.02956598, -0.19340927],\n",
       "       [-0.40512919,  0.61938821,  0.04398329,  0.05237662, -0.02573338],\n",
       "       [-0.52296526,  0.41219537,  0.09304908, -0.03661217,  0.21868148],\n",
       "       [-0.34271078,  0.43920046, -0.04134167,  0.22299384,  0.10057605],\n",
       "       [ 0.32598117,  0.17668387,  0.23715067, -0.37622735,  0.01965075],\n",
       "       [-0.19464205,  0.0802702 , -0.30893519,  0.31639184, -0.08032505],\n",
       "       [ 0.40512232,  0.26995782,  0.19035383, -0.45059199,  0.03916022],\n",
       "       [-0.0625734 ,  0.2449271 ,  0.20127055, -0.20726765,  0.31166909],\n",
       "       [-0.20329206, -0.03540316, -0.28968787,  0.36167699, -0.16433965],\n",
       "       [ 0.08178247,  0.20214483, -0.10736518,  0.24154625,  0.08240405],\n",
       "       [ 0.17711707, -0.03189236,  0.0415395 ,  0.02891728,  0.14455361]])"
      ]
     },
     "execution_count": 43,
     "metadata": {},
     "output_type": "execute_result"
    }
   ],
   "source": [
    "fa.loadings_"
   ]
  },
  {
   "cell_type": "code",
   "execution_count": 44,
   "metadata": {},
   "outputs": [],
   "source": [
    "df1=pd.DataFrame(fa.loadings_)"
   ]
  },
  {
   "cell_type": "code",
   "execution_count": 64,
   "metadata": {},
   "outputs": [
    {
     "data": {
      "text/plain": [
       "(27, 5)"
      ]
     },
     "execution_count": 64,
     "metadata": {},
     "output_type": "execute_result"
    }
   ],
   "source": [
    "df1.shape"
   ]
  },
  {
   "cell_type": "code",
   "execution_count": 46,
   "metadata": {},
   "outputs": [],
   "source": [
    "df1.columns = ['1st factor','2nd factor','3rd factor','4th factor','5th factor']"
   ]
  },
  {
   "cell_type": "code",
   "execution_count": 67,
   "metadata": {},
   "outputs": [
    {
     "name": "stdout",
     "output_type": "stream",
     "text": [
      "A1 belongs to 3rd factor\n",
      "A2 belongs to 1st factor\n",
      "A3 belongs to 1st factor\n",
      "A4 belongs to 1st factor\n",
      "A5 belongs to 1st factor\n",
      "C1 belongs to 3rd factor\n",
      "C2 belongs to 3rd factor\n",
      "C3 belongs to 3rd factor\n",
      "C4 belongs to 2nd factor\n",
      "C5 belongs to 2nd factor\n",
      "E1 belongs to 3rd factor\n",
      "E2 belongs to 5th factor\n",
      "E3 belongs to 1st factor\n",
      "E4 belongs to 1st factor\n",
      "E5 belongs to 1st factor\n",
      "N1 belongs to 2nd factor\n",
      "N2 belongs to 2nd factor\n",
      "N3 belongs to 2nd factor\n",
      "N4 belongs to 2nd factor\n",
      "N5 belongs to 2nd factor\n",
      "O1 belongs to 1st factor\n",
      "O2 belongs to 4th factor\n",
      "O3 belongs to 1st factor\n",
      "O4 belongs to 5th factor\n",
      "O5 belongs to 4th factor\n",
      "gender belongs to 4th factor\n",
      "age belongs to 1st factor\n"
     ]
    }
   ],
   "source": [
    "for i in df1.index:\n",
    "    high = max(df1.loc[i,])\n",
    "    col_name = cols[i]\n",
    "    for j in df1.columns:\n",
    "        if(df1.loc[i,j] == high):\n",
    "            print('%s belongs to %s' %(col_name,j))\n",
    "        "
   ]
  },
  {
   "cell_type": "code",
   "execution_count": 68,
   "metadata": {},
   "outputs": [],
   "source": [
    "data_fact = pd.DataFrame(fa.transform(data))"
   ]
  },
  {
   "cell_type": "code",
   "execution_count": 69,
   "metadata": {},
   "outputs": [
    {
     "data": {
      "text/plain": [
       "(2436, 5)"
      ]
     },
     "execution_count": 69,
     "metadata": {},
     "output_type": "execute_result"
    }
   ],
   "source": [
    "data_fact.shape"
   ]
  },
  {
   "cell_type": "code",
   "execution_count": 70,
   "metadata": {
    "scrolled": true
   },
   "outputs": [
    {
     "data": {
      "text/html": [
       "<div>\n",
       "<style scoped>\n",
       "    .dataframe tbody tr th:only-of-type {\n",
       "        vertical-align: middle;\n",
       "    }\n",
       "\n",
       "    .dataframe tbody tr th {\n",
       "        vertical-align: top;\n",
       "    }\n",
       "\n",
       "    .dataframe thead th {\n",
       "        text-align: right;\n",
       "    }\n",
       "</style>\n",
       "<table border=\"1\" class=\"dataframe\">\n",
       "  <thead>\n",
       "    <tr style=\"text-align: right;\">\n",
       "      <th></th>\n",
       "      <th>0</th>\n",
       "      <th>1</th>\n",
       "      <th>2</th>\n",
       "      <th>3</th>\n",
       "      <th>4</th>\n",
       "    </tr>\n",
       "  </thead>\n",
       "  <tbody>\n",
       "    <tr>\n",
       "      <th>0</th>\n",
       "      <td>-0.982400</td>\n",
       "      <td>-0.986767</td>\n",
       "      <td>-1.377650</td>\n",
       "      <td>0.174607</td>\n",
       "      <td>-0.823664</td>\n",
       "    </tr>\n",
       "    <tr>\n",
       "      <th>1</th>\n",
       "      <td>-0.137731</td>\n",
       "      <td>0.142051</td>\n",
       "      <td>-0.707301</td>\n",
       "      <td>-0.188017</td>\n",
       "      <td>-0.480692</td>\n",
       "    </tr>\n",
       "    <tr>\n",
       "      <th>2</th>\n",
       "      <td>-0.350736</td>\n",
       "      <td>0.412969</td>\n",
       "      <td>0.285708</td>\n",
       "      <td>-0.251899</td>\n",
       "      <td>-0.813385</td>\n",
       "    </tr>\n",
       "    <tr>\n",
       "      <th>3</th>\n",
       "      <td>-0.581285</td>\n",
       "      <td>-0.407668</td>\n",
       "      <td>-1.285113</td>\n",
       "      <td>0.161188</td>\n",
       "      <td>-0.290027</td>\n",
       "    </tr>\n",
       "    <tr>\n",
       "      <th>4</th>\n",
       "      <td>-0.210191</td>\n",
       "      <td>-0.568429</td>\n",
       "      <td>-0.233855</td>\n",
       "      <td>0.129883</td>\n",
       "      <td>-1.068342</td>\n",
       "    </tr>\n",
       "  </tbody>\n",
       "</table>\n",
       "</div>"
      ],
      "text/plain": [
       "          0         1         2         3         4\n",
       "0 -0.982400 -0.986767 -1.377650  0.174607 -0.823664\n",
       "1 -0.137731  0.142051 -0.707301 -0.188017 -0.480692\n",
       "2 -0.350736  0.412969  0.285708 -0.251899 -0.813385\n",
       "3 -0.581285 -0.407668 -1.285113  0.161188 -0.290027\n",
       "4 -0.210191 -0.568429 -0.233855  0.129883 -1.068342"
      ]
     },
     "execution_count": 70,
     "metadata": {},
     "output_type": "execute_result"
    }
   ],
   "source": [
    "data_fact.head()"
   ]
  },
  {
   "cell_type": "markdown",
   "metadata": {},
   "source": [
    "questions:\n",
    "    \n",
    "1. Here can be able to know which column belongs to which cluster, as per bussiness knowledge two columns misplaced in a cluster, How can we solve this?\n",
    "\n",
    "Ans: No.of factors, check rotation, if we have linear-combination do PCA.\n",
    "\n",
    "2. we have 500 features totally, can we make factors for 400 features only and can we remain 100 also in model training?\n",
    "\n",
    "Ans: Yes.\n",
    "\n",
    "3. we did FCA and trained a regression model and we got good results from that, if we want to store that model for future purpose, how can i make those factors with new data?\n",
    "\n",
    "Ans: Discremenent analysis, (get coefficent value and multiple with column value - add all values which are contributing for that component) , \n",
    "\n",
    "4. if we get p-value more than confidence interval at calculate_bartlett_sphericity, what we will do?"
   ]
  },
  {
   "cell_type": "code",
   "execution_count": null,
   "metadata": {},
   "outputs": [],
   "source": []
  }
 ],
 "metadata": {
  "kernelspec": {
   "display_name": "Python 3",
   "language": "python",
   "name": "python3"
  },
  "language_info": {
   "codemirror_mode": {
    "name": "ipython",
    "version": 3
   },
   "file_extension": ".py",
   "mimetype": "text/x-python",
   "name": "python",
   "nbconvert_exporter": "python",
   "pygments_lexer": "ipython3",
   "version": "3.7.3"
  }
 },
 "nbformat": 4,
 "nbformat_minor": 2
}
